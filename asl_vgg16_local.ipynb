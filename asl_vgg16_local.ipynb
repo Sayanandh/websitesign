{
 "cells": [
  {
   "cell_type": "code",
   "execution_count": 1,
   "metadata": {},
   "outputs": [],
   "source": [
    "import os\n",
    "import cv2\n",
    "import numpy as np\n",
    "import tensorflow as tf\n",
    "import matplotlib.pyplot as plt\n",
    "from keras.applications.vgg16 import VGG16\n",
    "from keras.models import Model\n",
    "from keras.preprocessing import image\n",
    "from tensorflow.keras.layers import Dense, Flatten, Dropout\n",
    "from sklearn.model_selection import train_test_split\n",
    "from sklearn.metrics import confusion_matrix\n",
    "import itertools"
   ]
  },
  {
   "cell_type": "code",
   "execution_count": 2,
   "metadata": {},
   "outputs": [],
   "source": [
    "\n",
    "# Update dataset paths to local system\n",
    "train_dir = r\"A:\\finalmodel\\training_set\"\n",
    "eval_dir = r\"A:\\finalmodel\\test_set\"\n",
    "\n",
    "uniq_labels = sorted(os.listdir(train_dir))"
   ]
  },
  {
   "cell_type": "code",
   "execution_count": 3,
   "metadata": {},
   "outputs": [],
   "source": [
    "# Helper function to load images\n",
    "def load_images(directory):\n",
    "    images = []\n",
    "    labels = []\n",
    "    for idx, label in enumerate(uniq_labels):\n",
    "        label_dir = os.path.join(directory, label)\n",
    "        if os.path.isdir(label_dir):  # Ensure it's a directory\n",
    "            for file in os.listdir(label_dir):\n",
    "                file_path = os.path.join(label_dir, file)\n",
    "                img = cv2.resize(cv2.imread(file_path), (64, 64))\n",
    "                images.append(img)\n",
    "                labels.append(idx)\n",
    "    return np.array(images), np.array(labels)"
   ]
  },
  {
   "cell_type": "code",
   "execution_count": 4,
   "metadata": {},
   "outputs": [],
   "source": [
    "# Load training data\n",
    "images, labels = load_images(train_dir)\n",
    "\n",
    "# Load evaluation data (if available)\n",
    "X_eval, y_eval = None, None\n",
    "if uniq_labels == sorted(os.listdir(eval_dir)):\n",
    "    X_eval, y_eval = load_images(eval_dir)"
   ]
  },
  {
   "cell_type": "code",
   "execution_count": 5,
   "metadata": {},
   "outputs": [],
   "source": [
    "# Train-Test Split\n",
    "X_train, X_test, y_train, y_test = train_test_split(images, labels, test_size=0.2, stratify=labels)\n",
    "\n",
    "# Normalize Images\n",
    "X_train = X_train.astype('float32') / 255.0\n",
    "X_test = X_test.astype('float32') / 255.0\n",
    "if X_eval is not None:\n",
    "    X_eval = X_eval.astype('float32') / 255.0\n",
    "\n",
    "# One-hot encoding labels\n",
    "y_train = tf.keras.utils.to_categorical(y_train, num_classes=len(uniq_labels))\n",
    "y_test = tf.keras.utils.to_categorical(y_test, num_classes=len(uniq_labels))\n",
    "if y_eval is not None:\n",
    "    y_eval = tf.keras.utils.to_categorical(y_eval, num_classes=len(uniq_labels))"
   ]
  },
  {
   "cell_type": "code",
   "execution_count": 6,
   "metadata": {},
   "outputs": [],
   "source": [
    "# Load VGG16 Model\n",
    "classifier_vgg16 = VGG16(input_shape=(64, 64, 3), include_top=False, weights='imagenet')\n",
    "for layer in classifier_vgg16.layers:\n",
    "    layer.trainable = False\n",
    "\n",
    "# Modify VGG16 Model\n",
    "classifier1 = Flatten()(classifier_vgg16.output)\n",
    "classifier1 = Dense(units=256, activation='relu')(classifier1)\n",
    "classifier1 = Dropout(0.6)(classifier1)\n",
    "classifier1 = Dense(units=len(uniq_labels), activation='softmax')(classifier1)\n",
    "model = Model(inputs=classifier_vgg16.input, outputs=classifier1)\n",
    "model.compile(optimizer='adam', loss='categorical_crossentropy', metrics=['accuracy'])"
   ]
  },
  {
   "cell_type": "code",
   "execution_count": 7,
   "metadata": {},
   "outputs": [
    {
     "name": "stdout",
     "output_type": "stream",
     "text": [
      "Epoch 1/5\n",
      "\u001b[1m576/576\u001b[0m \u001b[32m━━━━━━━━━━━━━━━━━━━━\u001b[0m\u001b[37m\u001b[0m \u001b[1m317s\u001b[0m 546ms/step - accuracy: 0.7982 - loss: 0.9432 - val_accuracy: 0.9721 - val_loss: 0.1065\n",
      "Epoch 2/5\n",
      "\u001b[1m576/576\u001b[0m \u001b[32m━━━━━━━━━━━━━━━━━━━━\u001b[0m\u001b[37m\u001b[0m \u001b[1m304s\u001b[0m 527ms/step - accuracy: 0.9647 - loss: 0.1368 - val_accuracy: 0.9811 - val_loss: 0.0695\n",
      "Epoch 3/5\n",
      "\u001b[1m576/576\u001b[0m \u001b[32m━━━━━━━━━━━━━━━━━━━━\u001b[0m\u001b[37m\u001b[0m \u001b[1m312s\u001b[0m 542ms/step - accuracy: 0.9740 - loss: 0.0901 - val_accuracy: 0.9818 - val_loss: 0.0565\n",
      "Epoch 4/5\n",
      "\u001b[1m576/576\u001b[0m \u001b[32m━━━━━━━━━━━━━━━━━━━━\u001b[0m\u001b[37m\u001b[0m \u001b[1m300s\u001b[0m 521ms/step - accuracy: 0.9775 - loss: 0.0743 - val_accuracy: 0.9861 - val_loss: 0.0447\n",
      "Epoch 5/5\n",
      "\u001b[1m576/576\u001b[0m \u001b[32m━━━━━━━━━━━━━━━━━━━━\u001b[0m\u001b[37m\u001b[0m \u001b[1m305s\u001b[0m 529ms/step - accuracy: 0.9806 - loss: 0.0645 - val_accuracy: 0.9885 - val_loss: 0.0388\n"
     ]
    },
    {
     "name": "stderr",
     "output_type": "stream",
     "text": [
      "WARNING:absl:You are saving your model as an HDF5 file via `model.save()` or `keras.saving.save_model(model)`. This file format is considered legacy. We recommend using instead the native Keras format, e.g. `model.save('my_model.keras')` or `keras.saving.save_model(model, 'my_model.keras')`. \n"
     ]
    },
    {
     "name": "stdout",
     "output_type": "stream",
     "text": [
      "VGG16 Accuracy on Test Data: 98.849%\n",
      "VGG16 Accuracy on Evaluation Data: 99.444%\n"
     ]
    }
   ],
   "source": [
    "# Train VGG16 Model\n",
    "history = model.fit(X_train, y_train, epochs=5, batch_size=64, validation_data=(X_test, y_test))\n",
    "\n",
    "# Save Model\n",
    "model.save('model_vgg16.h5')\n",
    "\n",
    "# Evaluate Model\n",
    "test_score = model.evaluate(X_test, y_test, verbose=0)\n",
    "print(f\"VGG16 Accuracy on Test Data: {round(test_score[1]*100, 3)}%\")\n",
    "\n",
    "if X_eval is not None:\n",
    "    eval_score = model.evaluate(X_eval, y_eval, verbose=0)\n",
    "    print(f\"VGG16 Accuracy on Evaluation Data: {round(eval_score[1]*100, 3)}%\")\n"
   ]
  }
 ],
 "metadata": {
  "kernelspec": {
   "display_name": ".venv",
   "language": "python",
   "name": "python3"
  },
  "language_info": {
   "codemirror_mode": {
    "name": "ipython",
    "version": 3
   },
   "file_extension": ".py",
   "mimetype": "text/x-python",
   "name": "python",
   "nbconvert_exporter": "python",
   "pygments_lexer": "ipython3",
   "version": "3.10.0"
  }
 },
 "nbformat": 4,
 "nbformat_minor": 4
}
